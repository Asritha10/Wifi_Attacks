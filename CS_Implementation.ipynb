{
  "nbformat": 4,
  "nbformat_minor": 0,
  "metadata": {
    "colab": {
      "provenance": []
    },
    "kernelspec": {
      "name": "python3",
      "display_name": "Python 3"
    },
    "language_info": {
      "name": "python"
    }
  },
  "cells": [
    {
      "cell_type": "code",
      "source": [
        "#It can forge or decode packets, send them on the wire, capture them, and match requests and replies.It can also handle tasks like scanning, tracerouting,\n",
        "#probing, unit tests, attacks, and network discovery."
      ],
      "metadata": {
        "id": "heUNFOJQloIO"
      },
      "execution_count": null,
      "outputs": []
    },
    {
      "cell_type": "code",
      "execution_count": null,
      "metadata": {
        "colab": {
          "base_uri": "https://localhost:8080/"
        },
        "id": "1_DgFTd9Jg5i",
        "outputId": "374f165e-28f9-4e8b-8ea6-1e228ce3b915"
      },
      "outputs": [
        {
          "output_type": "stream",
          "name": "stdout",
          "text": [
            "Looking in indexes: https://pypi.org/simple, https://us-python.pkg.dev/colab-wheels/public/simple/\n",
            "Collecting scapy\n",
            "  Downloading scapy-2.5.0.tar.gz (1.3 MB)\n",
            "\u001b[2K     \u001b[90m━━━━━━━━━━━━━━━━━━━━━━━━━━━━━━━━━━━━━━━━\u001b[0m \u001b[32m1.3/1.3 MB\u001b[0m \u001b[31m17.1 MB/s\u001b[0m eta \u001b[36m0:00:00\u001b[0m\n",
            "\u001b[?25h  Preparing metadata (setup.py) ... \u001b[?25l\u001b[?25hdone\n",
            "Building wheels for collected packages: scapy\n",
            "  Building wheel for scapy (setup.py) ... \u001b[?25l\u001b[?25hdone\n",
            "  Created wheel for scapy: filename=scapy-2.5.0-py2.py3-none-any.whl size=1444325 sha256=8ff438f14f7d089ca2892f1150b85c19b15b4817cdd44de391ba112f90e21f72\n",
            "  Stored in directory: /root/.cache/pip/wheels/82/b7/03/8344d8cf6695624746311bc0d389e9d05535ca83c35f90241d\n",
            "Successfully built scapy\n",
            "Installing collected packages: scapy\n",
            "Successfully installed scapy-2.5.0\n"
          ]
        }
      ],
      "source": [
        "pip install scapy"
      ]
    },
    {
      "cell_type": "code",
      "source": [
        "#Specification used for wireless networks"
      ],
      "metadata": {
        "id": "IMkOG1-WoVA7"
      },
      "execution_count": null,
      "outputs": []
    },
    {
      "cell_type": "code",
      "source": [
        "from scapy.all import *\n"
      ],
      "metadata": {
        "id": "bw_NyOcxJkiM"
      },
      "execution_count": null,
      "outputs": []
    },
    {
      "cell_type": "code",
      "source": [
        "def detect_wifi_attacks(pkt):\n",
        "    # Check if packet is an 802.11 wireless packet\n",
        "    if pkt.haslayer(Dot11):\n",
        "        # Check if packet is a management frame\n",
        "        if pkt.type == 0 and pkt.subtype == 0:\n",
        "            # Check for common attack patterns\n",
        "            if pkt.addr2 == 'ff:ff:ff:ff:ff:ff':\n",
        "                print(\"Broadcast attack detected!\")\n",
        "            elif pkt.addr2 == pkt.addr3:\n",
        "                print(\"Client spoofing attack detected!\")\n",
        "            elif pkt.addr2 == '00:00:00:00:00:00':\n",
        "                print(\"Null address attack detected!\")\n",
        "            # Add more attack detection patterns as needed\n"
      ],
      "metadata": {
        "id": "S3BIswTMJn8L"
      },
      "execution_count": null,
      "outputs": []
    },
    {
      "cell_type": "code",
      "source": [
        "from scapy.all import conf\n",
        "print(conf.ifaces)"
      ],
      "metadata": {
        "colab": {
          "base_uri": "https://localhost:8080/"
        },
        "id": "iIhUfITQJ5dg",
        "outputId": "338aea22-d747-4042-ed9d-cce29561fe20"
      },
      "execution_count": null,
      "outputs": [
        {
          "output_type": "stream",
          "name": "stdout",
          "text": [
            "Source  Index  Name  MAC                IPv4         IPv6\n",
            "sys     1      lo    00:00:00:00:00:00  127.0.0.1        \n",
            "sys     5      eth0  02:42:ac:1c:00:0c  172.28.0.12      \n"
          ]
        }
      ]
    },
    {
      "cell_type": "code",
      "source": [
        "pip install netifaces"
      ],
      "metadata": {
        "colab": {
          "base_uri": "https://localhost:8080/"
        },
        "id": "PbZ7o885K0bM",
        "outputId": "d9e8a06d-3fc4-4e18-ad03-60805dc1761a"
      },
      "execution_count": null,
      "outputs": [
        {
          "output_type": "stream",
          "name": "stdout",
          "text": [
            "Looking in indexes: https://pypi.org/simple, https://us-python.pkg.dev/colab-wheels/public/simple/\n",
            "Collecting netifaces\n",
            "  Downloading netifaces-0.11.0.tar.gz (30 kB)\n",
            "  Preparing metadata (setup.py) ... \u001b[?25l\u001b[?25hdone\n",
            "Building wheels for collected packages: netifaces\n",
            "  Building wheel for netifaces (setup.py) ... \u001b[?25l\u001b[?25hdone\n",
            "  Created wheel for netifaces: filename=netifaces-0.11.0-cp310-cp310-linux_x86_64.whl size=40394 sha256=1e8546e403ac59f1653efd53850dd0a335da4020741c2a5d4366517371711596\n",
            "  Stored in directory: /root/.cache/pip/wheels/48/65/b3/4c4cc6038b81ff21cc9df69f2b6774f5f52e23d3c275ed15aa\n",
            "Successfully built netifaces\n",
            "Installing collected packages: netifaces\n",
            "Successfully installed netifaces-0.11.0\n"
          ]
        }
      ]
    },
    {
      "cell_type": "code",
      "source": [
        "import netifaces\n",
        "\n",
        "interfaces = netifaces.interfaces()\n",
        "print(interfaces)\n"
      ],
      "metadata": {
        "colab": {
          "base_uri": "https://localhost:8080/"
        },
        "id": "8zuKrEqJKzAk",
        "outputId": "fbb15018-d26d-4857-88ff-a2e7c271c5f0"
      },
      "execution_count": null,
      "outputs": [
        {
          "output_type": "stream",
          "name": "stdout",
          "text": [
            "['lo', 'eth0']\n"
          ]
        }
      ]
    },
    {
      "cell_type": "code",
      "source": [
        "import socket\n",
        "import struct\n",
        "\n",
        "# Create a raw socket to capture Wi-Fi packets\n",
        "sock = socket.socket(socket.AF_PACKET, socket.SOCK_RAW, socket.htons(0x0003))\n",
        "\n",
        "# Set the network interface name\n",
        "interface = 'lo' # Replace with your interface name\n",
        "\n",
        "# Bind the socket to the specified interface\n",
        "sock.bind((interface, 0))\n",
        "\n",
        "print(\"Starting Wi-Fi attack detection...\")\n",
        "print(\"Press Ctrl+C to stop the detection.\")\n",
        "\n",
        "try:\n",
        "    while True:\n",
        "        # Receive packets\n",
        "        packet, _ = sock.recvfrom(65535)\n",
        "\n",
        "        # Extract relevant fields from the packet\n",
        "        frame_control = struct.unpack('B', packet[0:1])[0]\n",
        "        frame_type = (frame_control & 0b00000011) >> 2\n",
        "        frame_subtype = (frame_control & 0b00011100) >> 4\n",
        "        addr1 = packet[4:10].hex(':')  # Destination MAC address\n",
        "        addr2 = packet[10:16].hex(':')  # Source MAC address\n",
        "        addr3 = packet[16:22].hex(':')\n",
        "\n",
        "        # Check for attack patterns\n",
        "        if frame_type == 0 and frame_subtype == 0:  # Management frame\n",
        "            if addr2 == 'ff:ff:ff:ff:ff:ff':\n",
        "                print(\"Broadcast attack detected!\")\n",
        "            elif addr2 == addr3:\n",
        "                print(\"Client spoofing attack detected!\")\n",
        "            elif addr2 == '00:00:00:00:00:00':\n",
        "                print(\"Null address attack detected!\")\n",
        "\n",
        "except KeyboardInterrupt:\n",
        "    print(\"\\nDetection stopped.\")\n"
      ],
      "metadata": {
        "colab": {
          "base_uri": "https://localhost:8080/"
        },
        "id": "3KzihETqKr0L",
        "outputId": "008b00b2-2e6b-4bca-9a07-1242ac30778b"
      },
      "execution_count": null,
      "outputs": [
        {
          "output_type": "stream",
          "name": "stdout",
          "text": [
            "Starting Wi-Fi attack detection...\n",
            "Press Ctrl+C to stop the detection.\n",
            "\n",
            "Detection stopped.\n"
          ]
        }
      ]
    }
  ]
}